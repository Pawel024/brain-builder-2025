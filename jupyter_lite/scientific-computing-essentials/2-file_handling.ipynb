{
 "cells": [
  {
   "cell_type": "markdown",
   "metadata": {},
   "source": [
    "# 2. File Handling in Python\n",
    "\n",
    "Artificial Intelligence massively relies on data, and data needs to be stored somewhere. \n",
    "This is done through files of various formats. \n",
    "Whether a file contains a dataset for training a model or the results of your AI algorithms, \n",
    "file handling is quite a crucial skill to possess!\n",
    "\n",
    "In this chapter, we dive into the practical world of file handling in Python. Efficiently working with files is a crucial skill for any data scientist, engineer, or researcher. We will explore how to read from and write to different types of files, enabling you to manipulate data. \n",
    "\n",
    "## 2.1 Text Files\n",
    "One of the most common ways to store data is by storing them in a text file. \n",
    "Unlike binary files, which may contain data in a format only interpretable by specific software, text \n",
    "files hold *human-readable* content.\n",
    "\n",
    "**Key Characteristics of Text Files:**\n",
    "- **Plain Text**: Text files consist of unformatted plain text. They do not include any special \n",
    "formatting, styles, or embedded objects commonly found in word processor documents.\n",
    "- **Encoding**: Text files are often encoded using character encodings like UTF-8 or ASCII. Encoding refers to the method used to represent characters as sequences of bytes. It defines a mapping between the characters in a character set (like ASCII, UTF-8, or UTF-16) and their binary representations. It is not too important to know what they mean for now, just keep in mind that if you open a dataset and it looks it contains many weird-looking characters, it most likely means it uses a different encoding.\n",
    "- **Line-based Structure**: Information in a text file is organized into lines, with each line typically representing a separate piece of information or record. Lines are usually delimited by newline characters (`\\n`)."
   ]
  },
  {
   "cell_type": "markdown",
   "metadata": {},
   "source": [
    "### 2.1.1 Text Files Formats\n",
    "\n",
    "**Plain Text File (.txt)**\n",
    "\n",
    "A `.txt` file is a type of computer file that stores plain text information without any formatting or styles. It is a simple, human-readable text document that can be opened and edited with a basic text editor.\n",
    "\n",
    "Example:\n"
   ]
  },
  {
   "cell_type": "raw",
   "metadata": {},
   "source": [
    "This is a text file.\n",
    "It contains plain text.\n",
    "Each line represents a separate piece of information."
   ]
  },
  {
   "cell_type": "markdown",
   "metadata": {},
   "source": [
    "**Comma-Separated Values File (.csv)**\n",
    "\n",
    "A `.csv` file is a plain text file format commonly used to store tabular data, where each line represents a row of values, and fields within each row are separated by commas. It is widely used for its simplicity and ease of import/export with spreadsheet software and databases.\n",
    "\n",
    "Example:"
   ]
  },
  {
   "cell_type": "raw",
   "metadata": {},
   "source": [
    "Name, Age, City\n",
    "John, 25, New York\n",
    "Jane, 30, London"
   ]
  },
  {
   "cell_type": "markdown",
   "metadata": {},
   "source": [
    "**JavaScript Object Notation File (.json)**\n",
    "\n",
    "\n",
    "A `.json` file is a lightweight data interchange format commonly used for storing and exchanging structured data in a human-readable format using key-value pairs. In AI, `.json` files are frequently employed for configuring settings, storing parameters for machine learning models, or exchanging data between different components of an AI system, due to their simplicity and ease of parsing, but also to the flexibility allowed by their hierarchical structure.\n",
    "\n",
    "Example:"
   ]
  },
  {
   "cell_type": "raw",
   "metadata": {},
   "source": [
    "{\n",
    "  \"name\": \"John\",\n",
    "  \"age\": 25,\n",
    "  \"city\": \"New York\"\n",
    "}"
   ]
  },
  {
   "cell_type": "markdown",
   "metadata": {},
   "source": [
    "In your journey exploring and working with Python and AI, you will most certainly encounter more filetypes. But these 3 are some of the most common ones."
   ]
  },
  {
   "cell_type": "markdown",
   "metadata": {},
   "source": [
    "\n",
    "\n",
    "### 2.1.2 Reading Text Files\n",
    "\n",
    "Python provides simple and effective ways to read the contents of text files. We'll learn how to open a file, read its content, and perform operations such as reading line by line or reading the entire file at once.\n",
    "\n",
    "The following syntax allows to open a file for reading (`'r'`) purposes:  \n",
    "\n",
    "```python\n",
    "with open(filename, 'r') as file:\n",
    "    content = file.read()\n",
    "    file.close()\n",
    "```\n",
    "\n",
    "Run the following example:"
   ]
  },
  {
   "cell_type": "code",
   "execution_count": null,
   "metadata": {},
   "outputs": [],
   "source": [
    "with open ('assets/readfile.txt', 'r') as file:\n",
    "    content = file.read()\n",
    "    file.close() # it is good practice to close the file\n",
    "\n",
    "print(content)"
   ]
  },
  {
   "cell_type": "markdown",
   "metadata": {},
   "source": [
    "You can open the `readfile.txt` file in the assets folder if you want to check its contents. \n",
    "We can check the type of the content variable like this:"
   ]
  },
  {
   "cell_type": "code",
   "execution_count": null,
   "metadata": {},
   "outputs": [],
   "source": [
    "print(type(content))"
   ]
  },
  {
   "cell_type": "markdown",
   "metadata": {},
   "source": [
    "Note that Python reads the file as a string. That means we can find individual characters using:"
   ]
  },
  {
   "cell_type": "code",
   "execution_count": null,
   "metadata": {},
   "outputs": [],
   "source": [
    "print(content[0:12])"
   ]
  },
  {
   "cell_type": "markdown",
   "metadata": {},
   "source": [
    "It is also possible to read text files line by line by using the `readlines()` function. See the following example:"
   ]
  },
  {
   "cell_type": "code",
   "execution_count": null,
   "metadata": {},
   "outputs": [],
   "source": [
    "with open ('assets/readfile.txt', 'r') as file:\n",
    "    lines = file.readlines()\n",
    "    file.close()\n",
    "\n",
    "print(f'First line: {lines[0]}')\n",
    "print(f'Second line: {lines[1]}')\n",
    "print(f'Third line: {lines[2]}')"
   ]
  },
  {
   "cell_type": "markdown",
   "metadata": {},
   "source": [
    "**Example: Reading a CSV**\n",
    "\n",
    "A very common way to store data is using a CSV file. It is a very simple way to store data similar to how an excel file looks. Each **row** gets separated by a new line, each comma separates the **columns**. A `.csv` also generally contains a **header** which has some information and the names of the various columns. Here is an example:\n",
    "\n",
    "```\n",
    "EPPLER 67 AIRFOIL\n",
    "\n",
    "x,y\n",
    "0.00084,0.00369\n",
    "0.00638,0.01188\n",
    "0.01639,0.02086\n",
    "0.03072,0.03016\n",
    "0.0493,0.03945\n",
    "0.07199,0.04847\n",
    "0.09862,0.05701\n",
    "```\n",
    "\n",
    "This full file can be seen in `assets/eppler-airfoil.csv`. We can read such a file using the `readlines()` function:"
   ]
  },
  {
   "cell_type": "code",
   "execution_count": null,
   "metadata": {},
   "outputs": [],
   "source": [
    "with open ('assets/eppler-airfoil.csv', 'r') as file:\n",
    "    lines = file.readlines()\n",
    "    file.close()\n",
    "\n",
    "header = lines[:3]\n",
    "rows = lines[3:]\n",
    "\n",
    "print(header)\n",
    "print(rows)"
   ]
  },
  {
   "cell_type": "markdown",
   "metadata": {},
   "source": [
    "We can now convert these two lists of values into data using the `strip()` (for getting rid of the `\\n`) and `split()` (for splitting the commas) function:"
   ]
  },
  {
   "cell_type": "code",
   "execution_count": null,
   "metadata": {},
   "outputs": [],
   "source": [
    "rows = [row.strip() for row in rows] # Using list comprehension to remove the \\n\n",
    "\n",
    "rows = [row.split(',') for row in rows] # Using list comprehension to split the rows on the commas\n",
    "\n",
    "print(rows)"
   ]
  },
  {
   "cell_type": "markdown",
   "metadata": {},
   "source": [
    "Each value can now be accessed using:"
   ]
  },
  {
   "cell_type": "code",
   "execution_count": null,
   "metadata": {},
   "outputs": [],
   "source": [
    "print(rows[0][1]) # first line, second column (y-coordinate)"
   ]
  },
  {
   "cell_type": "markdown",
   "metadata": {},
   "source": [
    "As you may see, this is not a very fast or elegant syntax to open a CSV file. In fact, it takes quite a few steps to open the data. Luckily, a built-in module exists in Python to make our lives (and our codes!) easier:"
   ]
  },
  {
   "cell_type": "code",
   "execution_count": null,
   "metadata": {},
   "outputs": [],
   "source": [
    "import csv\n",
    "\n",
    "with open ('assets/eppler-airfoil.csv', 'r') as file:\n",
    "    reader = csv.reader(file) # Create a reader object\n",
    "    rows = list(reader) # Convert the reader object to a list\n",
    "    file.close()\n",
    "\n",
    "rows = rows[3:] # Remove the header\n",
    "print(rows)"
   ]
  },
  {
   "cell_type": "markdown",
   "metadata": {},
   "source": [
    "Here we see an example of the csv module that makes the code more readable. It also automatically takes care of parsing, delimiters and errors. The full documentation can be found here: https://docs.python.org/3/library/csv.html."
   ]
  },
  {
   "cell_type": "markdown",
   "metadata": {},
   "source": [
    "## 2.2 Files with Images\n",
    "Another very useful skill for people working in machine learning is reading images. One of the most important fields within AI is computer vision. In order to train models on these images, they need to be converted and stored into data files. In this section, we will cover how to read these types of files.\n",
    "\n",
    "Before reading images, it is important to realize how images are stored. An image is a visual representation of information, and it is composed of individual picture elements, commonly known as **pixels**. Pixels are the smallest unit of an image, and each pixel holds information about the color of a tiny square in the overall image.\n",
    "\n",
    "Colors in digital images are created by combining different intensities of three primary colors: **Red**, **Green**, and **Blue**. This color model is known as *RGB*. Each pixel in an RGB image has three values representing the intensity of Red, Green, and Blue, respectively. The combination of these three colors in varying intensities produces a wide spectrum of colors.\n",
    "\n",
    "For example, an RGB triplet `(200, 50, 100)` represents a pixel with a moderate intensity of red (`200`), a low intensity of green (`50`), and a moderate intensity of blue (`100`). Combining these three intensities results in a specific color for that pixel. The maximum value a RGB value regularly can take is 256 (1 byte)."
   ]
  },
  {
   "cell_type": "markdown",
   "metadata": {},
   "source": [
    "### *2.2.1 Image Files Formats*\n",
    "An image format is a standardized way of representing and storing visual information in a digital form. It defines how data about colors, pixels, and other image characteristics are organized and encoded, allowing computers and software to interpret and display the visual content.\n",
    "\n",
    "Different image formats have varying characteristics, including compression methods, color representations, and support for features like transparency and animation. The choice of image format depends on the specific requirements of the application and the type of visual content being stored or transmitted. \n",
    "\n",
    "The most popular image formats are **JPEG and PNG**:\n",
    "\n",
    "- **JPEG** is a popular image compression standard developed by the *Joint Photographic Experts Group*. It is a lossy compression format, meaning it reduces file size by discarding some information that the human eye may not easily notice. JPEG is well-suited for photographs and images with complex color gradients. However, due to the lossy compression, repeatedly saving a JPEG image can result in a degradation of image quality.\n",
    "\n",
    "- **PNG** is another widely-used image format, but unlike JPEG, it uses *lossless* compression. This means that no information is lost during compression, resulting in higher image quality. PNG is well-suited for images with sharp edges, transparency, or simple graphics. It supports a full range of colors and has become a standard for web graphics, logos, and images where preserving fine details is crucial."
   ]
  },
  {
   "cell_type": "markdown",
   "metadata": {},
   "source": [
    "### 2.2.4 Reading Images\n",
    "Similarly to `csv` files, there are many ways you can read images. However, reading images becomes \n",
    "a lot easier when using a package. \n",
    "\n",
    "The following block shows how to read a `jpeg` file:"
   ]
  },
  {
   "cell_type": "code",
   "execution_count": null,
   "metadata": {},
   "outputs": [],
   "source": [
    "from PIL import Image\n",
    "\n",
    "# Specify the path to your JPEG file\n",
    "jpeg_file_path = 'assets/image.jpg'\n",
    "\n",
    "# Open the JPEG file\n",
    "with Image.open(jpeg_file_path) as img:\n",
    "    # Display information about the image\n",
    "    print(f\"Image format: {img.format}\")\n",
    "    print(f\"Image mode: {img.mode}\")\n",
    "    print(f\"Image resolution: {img.size}\")\n",
    "\n",
    "    # You can perform various operations on the image here\n",
    "    # For example, you can show the image with\n",
    "    display(img)\n",
    "\n",
    "    # Note: in a regular Python script, the line img.show() could have also been used instead of\n",
    "    # display(img)"
   ]
  },
  {
   "cell_type": "markdown",
   "metadata": {},
   "source": [
    "The Python image library takes care of opening various image formats. The full documentation can be found here: https://pillow.readthedocs.io/en/stable/reference/Image.html. \n",
    "\n",
    "In order for it to be useful to us to apply machine learning to the images, we need to convert it to numerical values. \n",
    "Using the `numpy` package (more details in the next notebook), we can convert it into an `array` (a datatype very similar to a list). \n",
    "\n",
    "Running the codeblock below first prints the array shape. The array is a 3 dimensional matrix which is 1080x1920x3. The 1080x1920 is the pixel resolution of the image, the 3 are the RGB values. The second thing it prints is an abbreviated display of the array itself. We can see the RGB values (which range from 0-99). "
   ]
  },
  {
   "cell_type": "code",
   "execution_count": null,
   "metadata": {},
   "outputs": [],
   "source": [
    "import numpy as np\n",
    "\n",
    "with Image.open(jpeg_file_path) as img:\n",
    "    # Display information about the image\n",
    "    array = np.array(img)\n",
    "    print(f\"Array shape: {array.shape}\")\n",
    "\n",
    "print(array)"
   ]
  },
  {
   "cell_type": "markdown",
   "metadata": {},
   "source": [
    "## 2.3 Practice File Handling\n",
    "The best way to practice your file handling skills to to try it yourself. \n",
    "1. Open the image in the `assets` folder and load it using `Pillow`. \n",
    "2. Apply a Gaussian Blur filter with radius 10 using `Pillow` (how to do this is shown in the [Pillow documentation](https://pillow.readthedocs.io/en/stable/reference/ImageFilter.html)). \n",
    "3. Save the 3D matrix in a `csv` file. Then, save the `csv` file in the `assets` folder.\n",
    "\n",
    "Hint: you have to convert from the NumPy array to a list using the `array.tolist()` function, only then it can be saved as a CSV."
   ]
  },
  {
   "cell_type": "code",
   "execution_count": null,
   "metadata": {},
   "outputs": [],
   "source": [
    "# Implement your solution here."
   ]
  },
  {
   "cell_type": "markdown",
   "metadata": {},
   "source": [
    "## Solutions\n",
    "\n",
    "#### Gaussian Blur filter"
   ]
  },
  {
   "cell_type": "code",
   "execution_count": null,
   "metadata": {},
   "outputs": [],
   "source": [
    "# Answer cell\n",
    "\n",
    "import numpy as np\n",
    "from PIL import ImageFilter\n",
    "import csv\n",
    "\n",
    "jpeg_file_path = 'assets/image.jpg'\n",
    "\n",
    "with Image.open(jpeg_file_path) as img:\n",
    "    # Display information about the image\n",
    "    img1 = img.filter(ImageFilter.GaussianBlur(radius=10))\n",
    "    image_array = np.array(img1)\n",
    "\n",
    "# Convert to a list\n",
    "image_list = image_array.tolist()\n",
    "\n",
    "# Write the list to a CSV file\n",
    "with open('assets/image.csv', 'w') as file:\n",
    "    writer = csv.writer(file)\n",
    "    writer.writerows(image_list)\n",
    "    file.close()"
   ]
  }
 ],
 "metadata": {
  "kernelspec": {
   "display_name": "python311-env",
   "language": "python",
   "name": "python3"
  },
  "language_info": {
   "codemirror_mode": {
    "name": "ipython",
    "version": 3
   },
   "file_extension": ".py",
   "mimetype": "text/x-python",
   "name": "python",
   "nbconvert_exporter": "python",
   "pygments_lexer": "ipython3",
   "version": "3.10.12"
  }
 },
 "nbformat": 4,
 "nbformat_minor": 2
}
