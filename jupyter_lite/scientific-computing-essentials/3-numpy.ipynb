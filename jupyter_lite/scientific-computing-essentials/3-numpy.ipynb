{
 "cells": [
  {
   "cell_type": "markdown",
   "metadata": {},
   "source": [
    "# 3. NumPy\n",
    "NumPy (`numpy`), short for Numerical Python, is a super powerful library for numerical and mathematical operations. It provides support for large, multi-dimensional arrays and matrices, along with a collection of high-level mathematical functions. The cornerstone of NumPy is the `np.array`: a new datatype that interfaces with all these functions.\n",
    "\n",
    "Learning how to effectively use NumPy seriously supercharges your Python programming and allows you to significantly speed your programs up. However, like any tool, NumPy is only effective in specific cases. \n",
    "In this notebook, you will learn the basics of NumPy, as well as its advantages and limitations.\n",
    "\n",
    "NumPy is also the basis for other AI focussed libraries like Tensorflow, Keras and PyTorch, of which the latter is used in this course. It is therefore really important to understand how it works as a basis for this course."
   ]
  },
  {
   "cell_type": "markdown",
   "metadata": {},
   "source": [
    "## 3.1 Using NumPy\n",
    "Now that we have a foundational understanding of how data structures like arrays and linked lists are stored in memory, let's dive into how NumPy enhances these concepts in Python and how you can leverage its power in your code.\n",
    "\n",
    "NumPy can be imported like any other library. Note that it is industry convention to `import numpy as np`. This is because the commands are very common and saves some work writing."
   ]
  },
  {
   "cell_type": "markdown",
   "metadata": {},
   "source": [
    "\n",
    "### 3.1.1 NumPy Arrays\n",
    "NumPy provides the `np.array` datatype, which allows you to create powerful and efficient arrays for numerical computations. This section guides you in creating NumPy arrays.\n",
    "\n",
    "**Basic Array Creation**\n",
    "\n",
    "You can create a NumPy array from a Python list using the `np.array()` function. It is also possible to create matrices this way."
   ]
  },
  {
   "cell_type": "code",
   "execution_count": null,
   "metadata": {},
   "outputs": [],
   "source": [
    "import numpy as np\n",
    "\n",
    "# Create a 1D array\n",
    "arr_1d = np.array([1, 2, 3, 4, 5])\n",
    "\n",
    "# Create a 2D array\n",
    "arr_2d = np.array([[1, 2, 3], [4, 5, 6], [7, 8, 9]])\n",
    "arr_2d"
   ]
  },
  {
   "cell_type": "markdown",
   "metadata": {},
   "source": [
    "**Accessing Values**\n",
    "\n",
    "Accessing values in arrays is very similar to lists where you can just place an index behind the array in brackets:"
   ]
  },
  {
   "cell_type": "code",
   "execution_count": null,
   "metadata": {},
   "outputs": [],
   "source": [
    "print(arr_1d[3])"
   ]
  },
  {
   "cell_type": "code",
   "execution_count": null,
   "metadata": {},
   "outputs": [],
   "source": [
    "print(arr_2d[1, 2])"
   ]
  },
  {
   "cell_type": "markdown",
   "metadata": {},
   "source": [
    "**Array Initialization**\n",
    "\n",
    "NumPy provides functions like `np.zeros()` and `np.ones()` to initialize arrays with zeros or ones, respectively. This is useful for reserving memory space that you will fill up later by assigning values."
   ]
  },
  {
   "cell_type": "code",
   "execution_count": null,
   "metadata": {},
   "outputs": [],
   "source": [
    "# Create a 1D array of zeros\n",
    "zeros_arr = np.zeros(5)\n",
    "print(zeros_arr)\n",
    "\n",
    "# Create a 2D array of ones\n",
    "ones_arr = np.ones((3, 3))\n",
    "print(ones_arr)"
   ]
  },
  {
   "cell_type": "markdown",
   "metadata": {},
   "source": [
    "**Generating Sequences**\n",
    "\n",
    "You can generate sequences of numbers using functions like `np.arange()` and `np.linspace()`:"
   ]
  },
  {
   "cell_type": "code",
   "execution_count": null,
   "metadata": {},
   "outputs": [],
   "source": [
    "# Create a 1D array with values from 0 to 20 with step 2\n",
    "sequence_arr = np.arange(0, 20, 2)\n",
    "print(sequence_arr)\n",
    "\n",
    "# Create a 1D array with 5 evenly spaced values between 0 and 1\n",
    "linspace_arr = np.linspace(0, 1, 5)\n",
    "print(linspace_arr)"
   ]
  },
  {
   "cell_type": "markdown",
   "metadata": {},
   "source": [
    "### 3.1.2 NumPy Operations\n",
    "\n",
    "The one of the biggest strengths of NumPy arrays is that they can do element wise operations much more efficiently than a normal list can do. In this section we will introduce you to various NumPy operations and functions and compare their performance to 'regular' Python implementations.\n",
    "\n",
    "**Element-wise operations**\n",
    "\n",
    "Doing element-wise operation is really simple in NumPy. Consider adding two lists/arrays together. This would be the typical 'vanilla' Python implementation:"
   ]
  },
  {
   "cell_type": "code",
   "execution_count": null,
   "metadata": {},
   "outputs": [],
   "source": [
    "list1 = range(1, 10)\n",
    "list2 = range(10, 1, -1)\n",
    "result = []\n",
    "\n",
    "for i, j in zip(list1, list2):\n",
    "    result.append(i + j)\n",
    "\n",
    "result"
   ]
  },
  {
   "cell_type": "markdown",
   "metadata": {},
   "source": [
    "That is a relatively complex syntax for such a simple linear algebraic operation: adding two vectors. Here is the NumPy implementation:"
   ]
  },
  {
   "cell_type": "code",
   "execution_count": null,
   "metadata": {},
   "outputs": [],
   "source": [
    "import numpy as np\n",
    "\n",
    "list1 = np.arange(1, 10)\n",
    "list2 = np.arange(10, 1, -1)\n",
    "result = list1 + list2\n",
    "\n",
    "result"
   ]
  },
  {
   "cell_type": "markdown",
   "metadata": {},
   "source": [
    "Not only the second implementation is significantly better readable, but it is also much faster.\n",
    "Let's benchmark the two implementations with the built-in `time` package!\n",
    "\n",
    "For benchmarking this, we need to increase the number of times that this operation is performed \n",
    "(computers these days are so fast that testing such a simple function only a handful of times does \n",
    "not yield a very meaningful runtime). Besides, by taking a larger sample group we will be able to \n",
    "better eliminate outliers. \n",
    "\n",
    "Consider the following example:"
   ]
  },
  {
   "cell_type": "code",
   "execution_count": null,
   "metadata": {},
   "outputs": [],
   "source": [
    "import numpy as np\n",
    "import time\n",
    "\n",
    "# Vanilla Python implementation\n",
    "t0 = time.time()\n",
    "\n",
    "list1 = range(1, 10000000)\n",
    "list2 = range(10000000, 1, -1)\n",
    "result = []\n",
    "\n",
    "for i, j in zip(list1, list2):\n",
    "    result.append(i + j)\n",
    "\n",
    "t1 = time.time()\n",
    "print(f\"Time Vanilla Python: {t1 - t0} s\")\n",
    "\n",
    "# Numpy implementation\n",
    "t2 = time.time()\n",
    "\n",
    "list1 = np.arange(1, 10000000)\n",
    "list2 = np.arange(10000000, 1, -1)\n",
    "result = list1 + list2\n",
    "\n",
    "t3 = time.time()\n",
    "print(f\"Time NumPy: {t3 - t2} s\")\n",
    "print(f\"NumPy is {round((t1-t0)/(t3-t2), 2)} times faster than Vanilla Python\")\n"
   ]
  },
  {
   "cell_type": "markdown",
   "metadata": {},
   "source": [
    "Running this code a few times shows that NumPy is significantly faster in this simple operation. Running the same codeblock also does provide different results every time you run it. It also shows us that it takes around 10 million addition operations for Python to need any noticeable time to complete for us humans.\n",
    "\n",
    "Element-wise operation in NumPy can be done for addition (`+`), subtraction (`-`), multiplication (`*`), division (`/`), modulus (`%`), floor bottom (`//`) and exponentiation (`**`). Most of these have a similar performance enhancement over 'vanilla' Python. \n",
    "\n",
    "Let's explore the performance gain of `numpy` versus 'vanilla' Python for the case of exponentiation:"
   ]
  },
  {
   "cell_type": "code",
   "execution_count": null,
   "metadata": {},
   "outputs": [],
   "source": [
    "import numpy as np\n",
    "import time\n",
    "\n",
    "# Vanilla Python implementation\n",
    "t0 = time.time()\n",
    "\n",
    "list1 = range(1, 10000)\n",
    "list2 = range(10000, 1, -1)\n",
    "result = []\n",
    "\n",
    "for i, j in zip(list1, list2):\n",
    "    result.append(i ** j)\n",
    "\n",
    "t1 = time.time()\n",
    "print(f\"Time Vanilla Python: {t1 - t0} s\")\n",
    "\n",
    "# Numpy implementation\n",
    "t2 = time.time()\n",
    "\n",
    "list1 = np.arange(1, 10000)\n",
    "list2 = np.arange(10000, 1, -1)\n",
    "result = list1 ** list2\n",
    "\n",
    "t3 = time.time()\n",
    "print(f\"Time NumPy: {t3 - t2} s\")\n",
    "print(f\"NumPy is {round((t1-t0)/(t3-t2), 2)} times faster than Vanilla Python\")"
   ]
  },
  {
   "cell_type": "markdown",
   "metadata": {},
   "source": [
    "Here NumPy absolutely obliterates 'vanilla' Python. An amazing performance improvement! Imagine if you can run a CFD this many times faster, or training a complex AI model. NumPy allows us to harness these kinds of improvements.\n",
    "\n",
    "Note that, in the previous example, the amount of operations has been decreased from 10 million to \n",
    "10 thousand as exponentiation is a much more computationally-expensive task than addition."
   ]
  },
  {
   "cell_type": "markdown",
   "metadata": {},
   "source": [
    "**Reassigning NumPy arrays**\n",
    "\n",
    "It is really important to note and think about the fact that the length of arrays cannot be altered. This means that every time an operation is done, the resulting array is saved in a different place in your memory. The original arrays are still accessible (unless their variable name is overwritten)"
   ]
  },
  {
   "cell_type": "code",
   "execution_count": null,
   "metadata": {},
   "outputs": [],
   "source": [
    "arr1 = np.arange(1, 10)\n",
    "arr2 = arr1 * 3  # It is also possible to multiply with a scalar\n",
    "\n",
    "print(arr1) # arr1 remains unchanged\n",
    "print(arr2) # arr2 is the result of the multiplication\n",
    "\n",
    "arr1 = arr2 * 2\n",
    "print(arr1) # now the original arr1 is no longer available"
   ]
  },
  {
   "cell_type": "markdown",
   "metadata": {},
   "source": [
    "### 3.1.3 Universal Functions\n",
    "NumPy also has universal functions `ufuncs` that operate on entire arrays. They are well optimized to work with NumPy arrays and offer good performance. The full list can be found here: https://numpy.org/doc/stable/reference/routines.math.html but here are some examples."
   ]
  },
  {
   "cell_type": "code",
   "execution_count": null,
   "metadata": {},
   "outputs": [],
   "source": [
    "arr1 = np.array([1, 2, 3, 4, 5, 6])\n",
    "\n",
    "# Compute the square root of all elements\n",
    "result_sqrt = np.sqrt(arr1)\n",
    "\n",
    "# Compute the exponential of all elements\n",
    "result_exp = np.exp(arr1)\n",
    "\n",
    "# Compute the trigonometric functions of all elements\n",
    "result_sin = np.sin(arr1)\n",
    "result_cos = np.cos(arr1)\n",
    "result_tan = np.tan(arr1)\n",
    "result_arc_sin = np.arcsin(np.sin(arr1))\n",
    "\n",
    "# Convert from degrees to rad or reverse\n",
    "result_deg2rad = np.deg2rad(arr1)\n",
    "result_rad2deg = np.rad2deg(arr1)\n",
    "\n",
    "# Returning pi\n",
    "result_pi = np.pi # This simply returns the value of pi, which is useful for computations\n",
    "\n",
    "# Compute the logarithm of all elements\n",
    "result_log = np.log(arr1) # natural logarithm\n",
    "result_log10 = np.log10(arr1) # base 10 logarithm\n",
    "\n",
    "# Round all elements to the nearest integer\n",
    "result_round = np.round(arr1)\n",
    "\n",
    "# Floor all elements\n",
    "result_floor = np.floor(arr1)\n",
    "\n",
    "# Compute the sum of all elements\n",
    "result_sum = np.sum(arr1)\n",
    "\n",
    "# Compute the mean of all elements\n",
    "result_mean = np.mean(arr1)\n",
    "\n",
    "# Compute the standard deviation of all elements\n",
    "result_std = np.std(arr1)\n",
    "\n",
    "# Compute the variance of all elements\n",
    "result_var = np.var(arr1)\n",
    "\n",
    "# Compute the min of all elements\n",
    "result_min = np.min(arr1)\n",
    "\n",
    "# Compute the max of all elements\n",
    "result_max = np.max(arr1)\n",
    "\n",
    "# Compute the cumulative sum of all elements\n",
    "result_cumsum = np.cumsum(arr1)\n",
    "\n",
    "result_cumsum  # replace this value to view different results"
   ]
  },
  {
   "cell_type": "markdown",
   "metadata": {},
   "source": [
    "### 3.1.4 Array Indexing and Slicing\n",
    "\n",
    "Array indexing and slicing are powerful features of NumPy arrays that allow you to access and manipulate specific elements or subarrays. Understanding how to effectively use indexing and slicing is crucial for working with arrays in Python.\n",
    "\n",
    "**Indexing**\n",
    "\n",
    "Array indexing in NumPy is similar to indexing in Python lists. You can access individual elements of an array using square brackets and the index of the element you want. \n",
    "\n",
    "Note that indexing in NumPy starts at 0!"
   ]
  },
  {
   "cell_type": "code",
   "execution_count": null,
   "metadata": {},
   "outputs": [],
   "source": [
    "# Creating a 1D array\n",
    "arr_1d = np.array([10, 20, 30, 40, 50])\n",
    "\n",
    "# Accessing the first element\n",
    "first_element = arr_1d[0]  # Result: 10\n",
    "\n",
    "# Accessing the third element\n",
    "third_element = arr_1d[2]  # Result: 30\n",
    "third_element"
   ]
  },
  {
   "cell_type": "markdown",
   "metadata": {},
   "source": [
    "For multidimensional arrays, you use multiple indices (one for each dimension) separated by commas. Here it works with [row, column]"
   ]
  },
  {
   "cell_type": "code",
   "execution_count": null,
   "metadata": {},
   "outputs": [],
   "source": [
    "# Creating a 2D array\n",
    "arr_2d = np.array([[1, 2, 3],\n",
    "                   [4, 5, 6],\n",
    "                   [7, 8, 9]])\n",
    "\n",
    "# Accessing an element in the second row and third column\n",
    "element_2_3 = arr_2d[1, 2]  # Result: 6\n"
   ]
  },
  {
   "cell_type": "markdown",
   "metadata": {},
   "source": [
    "#### Slicing\n",
    "Slicing allows you to extract portions of an array, creating a new array. The basic syntax for slicing is `start:stop:step`. If any of these are unspecified, they default to the values of `start=0`, `stop=size of dimension`, and `step=1`."
   ]
  },
  {
   "cell_type": "code",
   "execution_count": null,
   "metadata": {},
   "outputs": [],
   "source": [
    "# Slicing a 1D array\n",
    "arr_slice = arr_1d[1:4]  # Elements from index 1 to 3 (excluding 4)\n",
    "# Result: [20, 30, 40]\n",
    "\n",
    "# Slicing a 2D array\n",
    "row_slice = arr_2d[0:2, :]  # Rows from index 0 to 1 (excluding 2), all columns\n",
    "# Result:\n",
    "# [[1, 2, 3],\n",
    "#  [4, 5, 6]]\n",
    "\n",
    "column_slice = arr_2d[:, 1]  # All rows, column at index 1\n",
    "# Result: [2, 5, 8]\n"
   ]
  },
  {
   "cell_type": "markdown",
   "metadata": {},
   "source": [
    "You can also use negative indices for counting from the end of the array:"
   ]
  },
  {
   "cell_type": "code",
   "execution_count": null,
   "metadata": {},
   "outputs": [],
   "source": [
    "# Accessing the last element of a 1D array\n",
    "last_element = arr_1d[-1]  # Result: 50\n",
    "\n",
    "# Slicing the last two rows of a 2D array\n",
    "last_two_rows = arr_2d[-2:, :]\n",
    "# Result:\n",
    "# [[4, 5, 6],\n",
    "#  [7, 8, 9]]"
   ]
  },
  {
   "cell_type": "markdown",
   "metadata": {},
   "source": [
    "#### Boolean Indexing\n",
    "Another thing that NumPy array allows you to do that normal python lists wouldn't allow is Boolean indexing. It allows you to select elements based on a condition. The result is an array of the same shape as the original, where elements corresponding to `True` in the boolean condition are retained."
   ]
  },
  {
   "cell_type": "code",
   "execution_count": null,
   "metadata": {},
   "outputs": [],
   "source": [
    "### Example 1\n",
    "# Creating a 1D array\n",
    "arr_1d = np.array([10, 20, 30, 40, 50])\n",
    "\n",
    "# Boolean indexing for 1D array\n",
    "condition = arr_1d > 20\n",
    "# Condition result: [False, False, True, True, True]\n",
    "result_bool_indexing = arr_1d[condition]\n",
    "# Result: [30, 40, 50]\n",
    "\n",
    "### Example 2\n",
    "# Complex boolean condition for 1D array\n",
    "complex_condition = (arr_1d > 20) & (arr_1d < 50)\n",
    "# Result: [False, False, True, True, False]\n",
    "\n",
    "result_complex = arr_1d[complex_condition]\n",
    "# Result: [30, 40]"
   ]
  },
  {
   "cell_type": "markdown",
   "metadata": {},
   "source": [
    "Just like with the element-wise operations, this boolean indexing allows for much faster operation than built-in python functions would.\n"
   ]
  },
  {
   "cell_type": "markdown",
   "metadata": {},
   "source": [
    "### 3.1.5 Shape and Reshaping\n",
    "In NumPy, the shape of an array refers to its dimensions, specifying the number of elements along each axis. Understanding and manipulating the shape of arrays is crucial when working with multidimensional data. Reshaping, on the other hand, involves changing the shape of an existing array, allowing you to transform it into a different shape without changing the data it contains.\n",
    "\n",
    "You can determine the shape of an array using the `shape` attribute. For a 1D array, the shape is a single number representing the number of elements. For 2D arrays or higher dimensions, the shape is a tuple specifying the size along each dimension."
   ]
  },
  {
   "cell_type": "code",
   "execution_count": null,
   "metadata": {},
   "outputs": [],
   "source": [
    "import numpy as np\n",
    "\n",
    "# Creating a 1D array\n",
    "arr_1d = np.array([1, 2, 3, 4, 5])\n",
    "\n",
    "# Querying the shape of a 1D array\n",
    "shape_1d = arr_1d.shape\n",
    "# Result: (5,)\n",
    "# Indicates a 1D array with 5 elements\n",
    "\n",
    "# Creating a 2D array\n",
    "arr_2d = np.array([[1, 2, 3],\n",
    "                   [4, 5, 6]])\n",
    "\n",
    "# Querying the shape of a 2D array\n",
    "shape_2d = arr_2d.shape\n",
    "# Result: (2, 3)\n",
    "# Indicates a 2D array with 2 rows and 3 columns"
   ]
  },
  {
   "cell_type": "markdown",
   "metadata": {},
   "source": [
    "NumPy provides the `reshape()` function, which allows you to change the shape of an array while keeping the data unchanged. The new shape must have the same number of elements as the original shape.\n",
    "\n",
    "Note: The new shape should be compatible with the original shape, meaning the total number of elements remains the same. In the example above, the original 1D array has 5 elements, and the reshaped array is a 2D array with 5 rows and 1 column."
   ]
  },
  {
   "cell_type": "code",
   "execution_count": null,
   "metadata": {},
   "outputs": [],
   "source": [
    "# Reshaping a 1D array to a 2D array\n",
    "arr_reshaped = arr_1d.reshape((5, 1))\n",
    "# Result:\n",
    "# [[1],\n",
    "#  [2],\n",
    "#  [3],\n",
    "#  [4],\n",
    "#  [5]]"
   ]
  },
  {
   "cell_type": "markdown",
   "metadata": {},
   "source": [
    "If you provide one of the dimensions as -1 during reshaping, NumPy will automatically infer that dimension based on the size of the array and the other specified dimensions."
   ]
  },
  {
   "cell_type": "code",
   "execution_count": null,
   "metadata": {},
   "outputs": [],
   "source": [
    "arr_1d = np.array([1, 2, 3, 4, 5, 6])\n",
    "\n",
    "# Reshaping a 1D array to a 2D array with automatic inference\n",
    "arr_auto_reshape = arr_1d.reshape((-1, 2))\n",
    "arr_auto_reshape"
   ]
  },
  {
   "cell_type": "markdown",
   "metadata": {},
   "source": [
    "Flattening an array means converting a multidimensional array into a 1D array. NumPy provides the flatten() method for this purpose."
   ]
  },
  {
   "cell_type": "code",
   "execution_count": null,
   "metadata": {},
   "outputs": [],
   "source": [
    "arr_2d = np.array([[1, 2, 3],\n",
    "                   [4, 5, 6]])\n",
    "\n",
    "# Flattening a 2D array\n",
    "arr_flattened = arr_2d.flatten()\n",
    "arr_flattened"
   ]
  },
  {
   "cell_type": "markdown",
   "metadata": {},
   "source": [
    "\n",
    "## *3.2 Understanding NumPy*\n",
    "\n",
    "### 3.2.1 Data Structures: Linked Lists vs Arrays\n",
    "To understand why NumPy can be very powerful we must first understand how lists are stored on your computer. Note that this explanation is  simplified as we are not teaching this to you as Computer Science Engineering students. However, this explanation can help you understand the performance benefits and limitations of NumPy Arrays. If you want to know more about this topic, consider taking a course on Data Structures.\n",
    "\n",
    "#### Variables\n",
    "All variables in Python are stored in the **Random Access Memory (RAM)**. This is a very fast storage medium that your computer's processor can easily access, it's meant for temporary data. The RAM stores values in blocks of data. When creating a variable such a block in RAM is reserved for a variable. This block also has a certain **memory address** that the computer's Memory Manager can use to re-access the values. There wouldn't be much point to storing values if we cannot access them later.\n",
    "\n",
    "For example, a variable would be stored in an certain address and each time you call the variable, the computer goes into the ram, looks for the memory address and return the value. When overwriting the variable (if of the same datatype), the value at that address gets updated.\n",
    "\n",
    "#### Arrays\n",
    "A very useful data structure is a list of variables in a set order. A list of things in a set order occur in many things in life and also in engineering. \n",
    "\n",
    "The simplest way of storing a list of data is in the shape of an array. An array consists of multiple blocks (elements) next to each other, this group of elements shares the same memory address. This memory address is the first element. If you want to access elements behind the first element, you feed the array an index and the computer will return the value associated with it.\n",
    "\n",
    "If an array is declared, a set amount of blocks will need to be reserved. This means that the length of an array cannot be changed, so no elements can be added or removed. The only way to do this is to copy the array entirely and move it to another set of blocks. Another limitation is that the data types of the elements must be the same, as the blocksize (which is determined by the type of variable stored in the element is set upon declaration).\n",
    "\n",
    "#### Linked Lists\n",
    "**Linked lists** are stored in a different way. Each element in a list actually occupies two blocks, one for the actual **value** and one pointing towards the next memory address of the subsequent element (**pointer**). This set of a value and a pointer is called a **node**.\n",
    "\n",
    "When your computer goes through a linked list it needs to navigate through a lot of different memory addresses. This requires a lot more computational power and is less efficient than just accessing an array. The advantage of a linked list is that it is really efficient and easy to add or remove elements, as you can just change the pointer of the previous element. It is also possible to have different types in lists as every time an element is added, new blocks will be reserved.\n",
    "\n",
    "<img src=\"assets/Array_vs_LinkedList.png\" alt=\"Arrays vs Linked Lists\" width=\"600\"/>\n",
    "\n",
    "The grey boxes represent memory addresses used for other things than storing the list.\n",
    "\n",
    "#### Difference\n",
    "These subtle differences have a very large implication on the characteristics of the two. \n",
    "\n",
    "**Linked Lists**\n",
    "- **Dynamic Size**: Lists in Python can dynamically grow or shrink. You can easily add or remove elements this adds a lot of flexibility.\n",
    "- **Mixed Types**: Lists can store elements of different data types. For example, you can have integers, strings, and other data types in the same list.\n",
    "- **Linked Structure**: It can be computationally expensive to evaluate the linked structure of long lists, as your computer needs to navigate through many blocks in the RAM. Linked lists have a large memory overhead.\n",
    "\n",
    "**Arrays**\n",
    "- **Fixed Size**: NumPy arrays have a fixed size upon creation. You need to create a new array if you want to change the size.\n",
    "- **Homogeneous Data Type**: All elements in a NumPy array must be of the same data type. This enforced homogeneity allows for more efficient storage and operations.\n",
    "- **Contiguous Memory**: Arrays are implemented as contiguous blocks of memory, making them more efficient for certain operations and larger arrays.\n",
    "\n",
    "Essentially the trade-off between using a linked list and an array is between flexibility and its performance. Linked lists are really flexible but they are really slow to evaluate. Arrays are the opposite. These days computers are really powerful and for most tasks there will be no notice performance difference. However, in aerospace engineering or artificial intelligence where we work with large sets of data, there can be a very large difference in performance. \n",
    "\n",
    "### 3.2.2 NumPy and Arrays in Python\n",
    "\n",
    "The list type in Python resembles something like the linked list. In reality, Python lists use a data type called a dynamic array which offers some benefits of arrays to a linked list, but the general idea is the same. A dynamic array is more flexible whilst a static array is better in terms of performance. For those who are interested, this article details the implementation of dynamic arrays in Python: https://www.laurentluce.com/posts/python-list-implementation/.\n",
    "\n",
    "NumPy allows you to work with static arrays in Python by introducing the numpy.array datatype. Besides that it also introduces a very large library of operations, tools and functions to work with these arrays. Because of this it is seen as a fundamental library in Python."
   ]
  },
  {
   "cell_type": "markdown",
   "metadata": {},
   "source": [
    "## *3.3 Using NumPy effectively*\n",
    "Now you have learned about NumPy, you have access to a powerful framework for numerical computing, and using it effectively can you give you a vast performance increase in your programs. However, it quite commonly occurs that people are not using the NumPy arrays to their full advantage and confuse them with the usage of lists. \n",
    "\n",
    "Consider the example below. In this first case, someone has simply replaced normal python lists with an array. The array is initiated with a single element being 0. After reading this notebook you should know that this is really bad usage of NumPy because arrays have a set amount of elements. For a large number of points, they are being iteratively added to the NumPy array. However, the mistake is made because the array is redefined, and thus copied every single time a number is added. This means that there are 1e5 copies of that array in memory, which is very inefficient usage of the memory.\n",
    "\n",
    "In case 2, normal Python lists are used in the exact same manner, but now `list_1.append()` is used. The dynamic list is updated and no new copy is saved. This makes case 2 using 'vanilla' Python significantly faster than case 1 using NumPy."
   ]
  },
  {
   "cell_type": "code",
   "execution_count": null,
   "metadata": {},
   "outputs": [],
   "source": [
    "import time\n",
    "import numpy as np\n",
    "\n",
    "# Case 1: Confusing numpy arrays with python lists\n",
    "t0 = time.time()\n",
    "array = np.array([0])\n",
    "for i in np.arange(1, 1e5):\n",
    "    array = np.append(array, i)\n",
    "t1 = time.time()\n",
    "print(f'Case 1: {t1-t0} s')\n",
    "\n",
    "# Case 2: Using python lists normally\n",
    "t2 = time.time()\n",
    "list_1 = []\n",
    "for i in range(1, int(1e5)):\n",
    "    list_1.append(i)\n",
    "t3 = time.time()\n",
    "print(f'Case 2: {t3-t2} s')\n",
    "print(f'Case 2 is {round((t1-t0)/(t3-t2), 2)} times faster than Case 1')\n"
   ]
  },
  {
   "cell_type": "markdown",
   "metadata": {},
   "source": [
    "This example highlights a few things. First of all, you should really be careful to use NumPy in the correct way and be aware of the differences between lists and arrays. Secondly, it shows us that NumPy arrays are inherently quite bad at iterative methods. This has to do with the fact that NumPy creates an entirely new array every time you use the append function, this reserves a new space in memory, copies the entire old array and adds the new value. The traditional Python method would only have to add a new element to the existing linked list hence being much faster.\n",
    "\n",
    "The issue is that sometimes iterative operations are required. Things like numerical solving of differential equations for finite element modelling or computational fluid dynamics often rely on these iterative methods. A solution to this would be initializing the length of the NumPy array if you know it as just zeroes and then assigning the iterative values like this:"
   ]
  },
  {
   "cell_type": "code",
   "execution_count": null,
   "metadata": {},
   "outputs": [],
   "source": [
    "# Case 3: Iteratively using numpy arrays\n",
    "t4 = time.time()\n",
    "array = np.zeros(int(1e5))\n",
    "for i in range(1, int(1e5)):\n",
    "    array[i] = i\n",
    "t5 = time.time()\n",
    "print(f'Case 3: {t5-t4} s')\n",
    "print(f'Case 2 is {round((t1-t0)/(t5-t4), 2)} times faster than Case 2')"
   ]
  },
  {
   "cell_type": "markdown",
   "metadata": {},
   "source": [
    "We can actually see that Case 2 is still faster than Case 3, but when dealing with large arrays or matrixes iteratively using NumPy iteratively in this way is much faster than regular Python and orders of magnitude faster than using the NumPy append method shown in Case 1."
   ]
  },
  {
   "cell_type": "markdown",
   "metadata": {},
   "source": [
    "## 3.4 Practice NumPy\n",
    "\n",
    "**Curving Test Grades**\n",
    "\n",
    "You are given a numpy array of test scores as fractions from 0 to 1. \n",
    "1. Determine the mean and standard deviation of the normal distribution\n",
    "2. Determine what percentage is required for a pass, keep in mind that a 5.8 is a pass and the scale goes from 1-10.\n",
    "3. Determine the percentage of students that would have passed before curving\n",
    "4. Calculate the bonus that needs to be added to all percentages to ensure 70% passes\n",
    "\n",
    "Hint: you can use the `np.percentile()` function here.\n",
    "\n",
    "5. Adjust to grades to a curve where 70% of students pass. Check this by printing the passrate after curving.\n",
    "6. Return a final array named final_grades with the final scores that range from 1 to 10."
   ]
  },
  {
   "cell_type": "code",
   "execution_count": null,
   "metadata": {},
   "outputs": [],
   "source": [
    "raw_grades = np.loadtxt('assets/grades.csv', delimiter=',')\n",
    "\n",
    "# Your code here:"
   ]
  },
  {
   "cell_type": "markdown",
   "metadata": {},
   "source": [
    "## Solutions\n",
    "\n",
    "#### Curving Test Grades"
   ]
  },
  {
   "cell_type": "code",
   "execution_count": null,
   "metadata": {},
   "outputs": [],
   "source": [
    "# 1. Determine the mean and standard deviation of the normal distribution\n",
    "mean_grade = np.mean(raw_grades)\n",
    "std_grade = np.std(raw_grades)\n",
    "\n",
    "print(f'Mean grade: {mean_grade:.3f}, Standard deviation: {std_grade:.3f}')\n",
    "\n",
    "# 2. Determine what percentage is required for a pass, keep in mind that a 5.8 is a pass and the scale goes from 1-10.\n",
    "required_percentage = (5.8 - 1) / 9\n",
    "\n",
    "# 3. Determine the percentage of students that would have passed before curving\n",
    "passing_grades = raw_grades[raw_grades >= required_percentage]\n",
    "passing_rate = len(passing_grades) / len(raw_grades)\n",
    "print(f'Passing percentage before curving: {passing_rate*100:.2f}%')\n",
    "\n",
    "# 4. Calculate the bonus that needs to be added to all percentages to ensure 70% passes\n",
    "percentile = np.percentile(raw_grades, 30)\n",
    "bonus = required_percentage - percentile\n",
    "\n",
    "# 5. Adjust to grades to a curve where 70% of students pass. Check this by printing the passrate after curving.\n",
    "curved_grades = raw_grades + bonus\n",
    "curved_grades = np.clip(curved_grades, 0, 1)\n",
    "curved_passing_grades = curved_grades[curved_grades >= required_percentage]\n",
    "curved_passing_rate = len(curved_passing_grades) / len(curved_grades)\n",
    "print(f'Passing percentage after curving: {curved_passing_rate*100:.2f}%')\n",
    "\n",
    "# 6. Grade to students to a grade. A pass is a 5.8, and keep in mind that grades go from 1-10.\n",
    "final_grades = curved_grades * 9 + 1"
   ]
  },
  {
   "cell_type": "markdown",
   "metadata": {},
   "source": [
    "The following block can be used to generate the `grades.csv` file:"
   ]
  },
  {
   "cell_type": "code",
   "execution_count": null,
   "metadata": {},
   "outputs": [],
   "source": [
    "# Generator code:\n",
    "\n",
    "import numpy as np\n",
    "import matplotlib.pyplot as plt\n",
    "\n",
    "grade_list = np.random.normal(loc=0.43, scale=0.3, size=440)\n",
    "grade_list = np.clip(grade_list, 0, 1)\n",
    "plt.hist(grade_list, bins=20)\n",
    "plt.show()\n",
    "np.savetxt('grades.csv', grade_list, delimiter=',')"
   ]
  }
 ],
 "metadata": {
  "kernelspec": {
   "display_name": "python311-env",
   "language": "python",
   "name": "python3"
  },
  "language_info": {
   "codemirror_mode": {
    "name": "ipython",
    "version": 3
   },
   "file_extension": ".py",
   "mimetype": "text/x-python",
   "name": "python",
   "nbconvert_exporter": "python",
   "pygments_lexer": "ipython3",
   "version": "3.10.12"
  }
 },
 "nbformat": 4,
 "nbformat_minor": 2
}
