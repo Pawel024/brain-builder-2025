{
 "cells": [
  {
   "cell_type": "markdown",
   "metadata": {},
   "source": [
    "# 4. Matplotlib\n",
    "Matplotlib is a versatile and widely-used library for creating static, animated, and interactive visualizations in Python. This chapter introduces the fundamentals of Matplotlib, covering basic plots, customization options, and advanced visualization techniques. In any engineering setting using data, visualizations are critical ways to gain insights into data and to draw conclusions. This also counts for Artificial Intelligence.\n",
    "\n",
    "Matplotlib is a comprehensive 2D plotting library for Python that produces high-quality visualizations. Developed by John D. Hunter in 2003, Matplotlib has become an industry standard tool for creating static, animated, and interactive plots in various domains, including data analysis, scientific research, and academic presentations. The great thing about Matplotlib is its easy of use, its versatility and its customization options.\n",
    "\n",
    "### Importing Matplotlib\n",
    "It is common convention to import Matplotlib under the alias `plt`. This is the convention:"
   ]
  },
  {
   "cell_type": "code",
   "execution_count": 1,
   "metadata": {},
   "outputs": [],
   "source": [
    "import matplotlib.pyplot as plt"
   ]
  },
  {
   "cell_type": "markdown",
   "metadata": {},
   "source": [
    "## 4.1 Basic Plots 2D with Matplotlib\n",
    "### 4.1.1 Line Plots\n",
    "Creating a line plot is one of the fundamental tasks in Matplotlib. It involves visualizing data points connected by straight lines. The plt.plot() function is commonly used for this purpose."
   ]
  },
  {
   "cell_type": "code",
   "execution_count": null,
   "metadata": {},
   "outputs": [],
   "source": [
    "# Sample data\n",
    "x = [1, 2, 3, 4, 5]\n",
    "y = [2, 4, 5, 9, 10]\n",
    "\n",
    "# Creating a simple line plot\n",
    "plt.plot(x, y)\n",
    "\n",
    "# It is necessary to call plt.show() to display the plot\n",
    "plt.show()"
   ]
  },
  {
   "cell_type": "markdown",
   "metadata": {},
   "source": [
    "### 4.1.2 Scatter Plots\n",
    "Scatter plots are useful for visualizing the relationship between two variables. The plt.scatter() function is employed to create scatter plots."
   ]
  },
  {
   "cell_type": "code",
   "execution_count": null,
   "metadata": {},
   "outputs": [],
   "source": [
    "# Sample data\n",
    "x = [1, 2, 3, 4, 5]\n",
    "y = [2, 4, 5, 9, 10]\n",
    "\n",
    "# Creating a scatter plot\n",
    "plt.scatter(x, y)\n",
    "\n",
    "# Display the plot\n",
    "plt.show()"
   ]
  },
  {
   "cell_type": "markdown",
   "metadata": {},
   "source": [
    "### 4.1.3 Plotting a function\n",
    "It is also possible to plot a function in Matplotlib. Matplotlib interfaces greatly with NumPy arrays as can be seen in the following example:"
   ]
  },
  {
   "cell_type": "code",
   "execution_count": null,
   "metadata": {},
   "outputs": [],
   "source": [
    "import numpy as np\n",
    "\n",
    "def MyFunction(x):\n",
    "    return x**4 - 4*x**2 + 3*x\n",
    "\n",
    "# Sampling the functions 100 times between -2.5 and 2.5\n",
    "x = np.linspace(-2.5, 2.5, 100)\n",
    "y = MyFunction(x)\n",
    "\n",
    "# Plotting the function\n",
    "plt.plot(x, y)\n",
    "plt.show()"
   ]
  },
  {
   "cell_type": "markdown",
   "metadata": {},
   "source": [
    "### 4.1.4 Bar Plots\n",
    "Another useful type of plot in data science are bar plots. Bar plots are effective for displaying and comparing the values of different categories. Matplotlib offers `plt.bar()` and `plt.barh()` functions for vertical and horizontal bar plots, respectively."
   ]
  },
  {
   "cell_type": "code",
   "execution_count": null,
   "metadata": {},
   "outputs": [],
   "source": [
    "# Sample data\n",
    "categories = ['A', 'B', 'C', 'D']\n",
    "values = [3, 7, 2, 5]\n",
    "\n",
    "# Creating a vertical bar plot\n",
    "plt.bar(categories, values)\n",
    "\n",
    "# Display the plot\n",
    "plt.show()\n",
    "\n",
    "# Show the horizontal bar plot\n",
    "plt.barh(categories, values)\n",
    "\n",
    "# Display the second plot\n",
    "plt.show()"
   ]
  },
  {
   "cell_type": "markdown",
   "metadata": {},
   "source": [
    "### 4.1.5 Histograms\n",
    "\n",
    "The final common plot is the Histogram. Histograms are useful for visualizing the distribution of a dataset. The `plt.hist()` function is employed to create histograms."
   ]
  },
  {
   "cell_type": "code",
   "execution_count": null,
   "metadata": {},
   "outputs": [],
   "source": [
    "# Sample data\n",
    "data = [1, 2, 2, 3, 3, 3, 4, 4, 5, 5, 5, 5, 6, 6]\n",
    "\n",
    "# Creating a histogram\n",
    "plt.hist(data, bins=6, edgecolor='black')\n",
    "\n",
    "# Display the plot\n",
    "plt.show()"
   ]
  },
  {
   "cell_type": "markdown",
   "metadata": {},
   "source": [
    "## 4.2 Plot Customization\n",
    "Matplotlib provides extensive customization options to tailor the appearance of plots according to specific requirements. In this section, we'll explore various customization techniques.\n",
    "\n",
    "### 4.2.1 Titles and Labels\n",
    "Adding titles and axis labels is crucial for providing context to a plot. Matplotlib allows you to set titles and labels using functions like `plt.title()`, `plt.xlabel()`, and `plt.ylabel()`."
   ]
  },
  {
   "cell_type": "code",
   "execution_count": null,
   "metadata": {},
   "outputs": [],
   "source": [
    "# Sample data\n",
    "x = [1, 2, 3, 4, 5]\n",
    "y = [2, 4, 6, 8, 10]\n",
    "\n",
    "# Creating a line plot\n",
    "plt.plot(x, y)\n",
    "\n",
    "# Adding title and labels\n",
    "plt.title('Simple Line Plot')\n",
    "plt.xlabel('X-axis')\n",
    "plt.ylabel('Y-axis')\n",
    "\n",
    "# Display the plot\n",
    "plt.show()"
   ]
  },
  {
   "cell_type": "markdown",
   "metadata": {},
   "source": [
    "### 4.2.2 Legends\n",
    "Legends are essential when dealing with multiple datasets in a single plot. You can add a legend using the `plt.legend()` function."
   ]
  },
  {
   "cell_type": "code",
   "execution_count": null,
   "metadata": {},
   "outputs": [],
   "source": [
    "# Sample data\n",
    "x = [1, 2, 3, 4, 5]\n",
    "y1 = [2, 4, 6, 8, 10]\n",
    "y2 = [1, 2, 1, 2, 1]\n",
    "\n",
    "# Creating multiple line plots\n",
    "plt.plot(x, y1, label='Line 1')\n",
    "plt.plot(x, y2, label='Line 2')\n",
    "\n",
    "# Adding a legend\n",
    "plt.legend()\n",
    "\n",
    "# Display the plot\n",
    "plt.show()"
   ]
  },
  {
   "cell_type": "markdown",
   "metadata": {},
   "source": [
    "### 4.2.3 Grids and Axes\n",
    "Grids and custom axes can improve the readability of plots. Matplotlib provides functions like `plt.grid()` and `plt.axis()` for this purpose."
   ]
  },
  {
   "cell_type": "code",
   "execution_count": null,
   "metadata": {},
   "outputs": [],
   "source": [
    "# Sample data\n",
    "x = [1, 2, 3, 4, 5]\n",
    "y = [2, 4, 6, 8, 10]\n",
    "\n",
    "# Creating a line plot\n",
    "plt.plot(x, y)\n",
    "\n",
    "# Displaying grid\n",
    "plt.grid(True, linestyle='--', alpha=0.7)\n",
    "\n",
    "# Customizing axes limits\n",
    "plt.axis([0, 6, 0, 12])\n",
    "\n",
    "# Display the plot\n",
    "plt.show()"
   ]
  },
  {
   "cell_type": "markdown",
   "metadata": {},
   "source": [
    "An alternative way to manage the size of the axes is using `plt.xlim()` and `plt.ylim()`."
   ]
  },
  {
   "cell_type": "code",
   "execution_count": null,
   "metadata": {},
   "outputs": [],
   "source": [
    "# Sample data\n",
    "x = [1, 2, 3, 4, 5]\n",
    "y = [2, 4, 6, 8, 10]\n",
    "\n",
    "# Creating a line plot\n",
    "plt.plot(x, y)\n",
    "\n",
    "# Displaying grid\n",
    "plt.grid(True, linestyle='--', alpha=0.7)\n",
    "\n",
    "# Customizing axes limits\n",
    "plt.xlim(1, 8)\n",
    "plt.ylim(0, 12)\n",
    "\n",
    "# Display the plot\n",
    "plt.show()"
   ]
  },
  {
   "cell_type": "markdown",
   "metadata": {},
   "source": [
    "### 4.2.4 Annotations\n",
    "Annotations add additional information to specific points on a plot. Matplotlib supports annotations through functions like `plt.annotate()` and `plt.text()`. "
   ]
  },
  {
   "cell_type": "code",
   "execution_count": null,
   "metadata": {},
   "outputs": [],
   "source": [
    "# Sample data\n",
    "x = [1, 2, 3, 4, 5]\n",
    "y = [2, 4, 7, 6, 10]\n",
    "\n",
    "# Creating a line plot\n",
    "plt.plot(x, y)\n",
    "plt.scatter(x, y)\n",
    "\n",
    "# Adding text annotation\n",
    "plt.text(3, 8, 'Peak Point', fontsize=10, ha='center')\n",
    "\n",
    "# Adding arrow annotation\n",
    "plt.annotate('Important Point', xy=(2, 4), xytext=(3, 5),\n",
    "             arrowprops=dict(facecolor='black', shrink=0.05))\n",
    "\n",
    "# Display the plot\n",
    "plt.show()"
   ]
  },
  {
   "cell_type": "markdown",
   "metadata": {},
   "source": [
    "### 4.2.5 Colors, Linestyles, and Markers\n",
    "Matplotlib provides flexibility in customizing the appearance of lines and markers in plots. You can specify colors, linestyles, and markers using different parameters."
   ]
  },
  {
   "cell_type": "code",
   "execution_count": null,
   "metadata": {},
   "outputs": [],
   "source": [
    "# Sample data\n",
    "x = [1, 2, 3, 4, 5]\n",
    "y = [2, 4, 6, 8, 10]\n",
    "\n",
    "# Customizing line color, linestyle, and marker\n",
    "plt.plot(x, y, color='black', linestyle='--', linewidth=3, marker='v', markersize=8, label='Line 1')\n",
    "\n",
    "# The color can be specified using a name, a hex code, or a tuple of RGB values.\n",
    "#   See https://matplotlib.org/stable/gallery/color/named_colors.html.\n",
    "# The linestyle can be specified using a name or a code.\n",
    "#   See https://matplotlib.org/stable/gallery/lines_bars_and_markers/linestyles.html.\n",
    "# The marker can be specified using a name or a code as well.\n",
    "#   See https://matplotlib.org/stable/api/markers_api.html.\n",
    "\n",
    "# Adding title and labels\n",
    "plt.title('Customized Line Plot')\n",
    "plt.xlabel('X-axis')\n",
    "plt.ylabel('Y-axis')\n",
    "\n",
    "# Adding a legend\n",
    "plt.legend()\n",
    "\n",
    "# Display the plot\n",
    "plt.show()"
   ]
  },
  {
   "cell_type": "markdown",
   "metadata": {},
   "source": [
    "## *4.3 Advanced Visualization Techniques*\n",
    "### 4.3.1 Subplots\n",
    "Matplotlib allows the creation of multiple plots within a single figure using subplots. This is useful for comparing different aspects of data or visualizing multiple datasets.\n",
    "\n",
    "Subplots are used by first using the `plt.subplots(n_x_plots, n_y_plots)` function. This can be assigned two variables, the `fig` (figure) and the `axs` (axis). By using `axs[x,y]`, certain operations on certain subplots can be performed. Keep in mind that some commands that work on normal plots don't work on subplots, please refer to https://matplotlib.org/stable/api/_as_gen/matplotlib.pyplot.subplots.html."
   ]
  },
  {
   "cell_type": "code",
   "execution_count": null,
   "metadata": {},
   "outputs": [],
   "source": [
    "# Sample data\n",
    "x = np.linspace(0, 2 * np.pi, 200)\n",
    "y1 = np.sin(x)\n",
    "y2 = np.cos(x)\n",
    "y3 = np.tan(x)\n",
    "y4 = np.arctan(x)\n",
    "\n",
    "# Creating multiple subplots\n",
    "fig, axs = plt.subplots(2, 2)\n",
    "\n",
    "# Plotting on the first subplot\n",
    "axs[0, 0].plot(x, y1, color='blue', label='Sin(x)')\n",
    "axs[0, 0].set_title('Subplot 1')\n",
    "axs[0, 0].legend()\n",
    "\n",
    "# Plotting on the second subplot\n",
    "axs[0, 1].plot(x, y2, color='green', label='Cos(x)')\n",
    "axs[0, 1].set_title('Subplot 2')\n",
    "axs[0, 1].legend()\n",
    "\n",
    "# Plotting on the third subplot\n",
    "axs[1, 0].plot(x, y3, color='red', label='Tan(x)')\n",
    "axs[1, 0].set_title('Subplot 3')\n",
    "axs[1, 0].legend()\n",
    "\n",
    "# Plotting on the fourth subplot\n",
    "axs[1, 1].plot(x, y4, color='orange', label='Arctan(x)')\n",
    "axs[1, 1].set_title('Subplot 4')\n",
    "axs[1, 1].legend()\n",
    "\n",
    "# Adding more subplots as needed...\n",
    "\n",
    "# Adjusting layout\n",
    "plt.tight_layout()\n",
    "\n",
    "# Display the plot\n",
    "plt.show()"
   ]
  },
  {
   "cell_type": "markdown",
   "metadata": {},
   "source": [
    "### 4.3.2 Plotting seperate axes on same graph\n",
    "It is also possible to have one graph with multple axes using the `plt.twinx()` function. `ax.tick_params()` changes the ticks (stripes) on the axes, adjusting them to a suitable size for each seperate graph. Notice how the exponential function is much larger in magnitude."
   ]
  },
  {
   "cell_type": "code",
   "execution_count": null,
   "metadata": {},
   "outputs": [],
   "source": [
    "# Sample data\n",
    "x = np.linspace(0, 10, 100)\n",
    "y1 = np.sin(x)\n",
    "y2 = 100 * np.exp(-x) * np.sin(2 * x)\n",
    "\n",
    "# Creating a figure and left y-axis\n",
    "fig, ax1 = plt.subplots()\n",
    "\n",
    "# Plotting on the left y-axis\n",
    "ax1.plot(x, y1, color='blue', label='Sin(x)')\n",
    "ax1.set_xlabel('X-axis')\n",
    "ax1.set_ylabel('Sin(x)', color='blue')\n",
    "ax1.tick_params('y', colors='blue')\n",
    "\n",
    "# Creating a second y-axis on the right\n",
    "ax2 = ax1.twinx()\n",
    "\n",
    "# Plotting on the right y-axis\n",
    "ax2.plot(x, y2, color='green', label='100* Exp(-x) * Sin(2x)')\n",
    "ax2.set_ylabel('100 * Exp(-x) * Sin(2x)', color='green')\n",
    "ax2.tick_params('y', colors='green')\n",
    "\n",
    "# Adding a legend\n",
    "ax1.legend(loc='upper left')\n",
    "ax2.legend(loc='upper right')\n",
    "\n",
    "# Display the plot\n",
    "plt.title('Plot with Two Separate Y-Axes')\n",
    "plt.show()"
   ]
  },
  {
   "cell_type": "markdown",
   "metadata": {},
   "source": [
    "### 4.3.3 3D Plotting\n",
    "Matplotlib supports 3D plotting for visualizing three-dimensional data. This is particularly useful in scientific and engineering applications."
   ]
  },
  {
   "cell_type": "code",
   "execution_count": null,
   "metadata": {},
   "outputs": [],
   "source": [
    "# Sample 3D data\n",
    "x = np.linspace(-5, 5, 100)\n",
    "y = np.linspace(-5, 5, 100)\n",
    "x, y = np.meshgrid(x, y)\n",
    "z = np.sin(np.sqrt(x**2 + y**2))\n",
    "\n",
    "# Creating a 3D surface plot\n",
    "fig = plt.figure()\n",
    "ax = fig.add_subplot(111, projection='3d')\n",
    "ax.plot_surface(x, y, z, cmap='viridis')\n",
    "\n",
    "# Adding labels\n",
    "ax.set_xlabel('X-axis')\n",
    "ax.set_ylabel('Y-axis')\n",
    "ax.set_zlabel('Z-axis')\n",
    "\n",
    "# Display the plot\n",
    "plt.show()"
   ]
  },
  {
   "cell_type": "markdown",
   "metadata": {},
   "source": [
    "### 4.3.4 Heatmaps\n",
    "Heatmaps are effective for visualizing data in a matrix format, often used in correlation matrices or representing pixel intensities."
   ]
  },
  {
   "cell_type": "code",
   "execution_count": null,
   "metadata": {},
   "outputs": [],
   "source": [
    "# Sample data for a heatmap\n",
    "data = np.random.rand(10, 10)\n",
    "\n",
    "# Creating a heatmap with a colorbar\n",
    "plt.imshow(data, cmap='viridis', interpolation='nearest')\n",
    "plt.colorbar(label='Values')\n",
    "\n",
    "# Display the plot\n",
    "plt.show()"
   ]
  },
  {
   "cell_type": "markdown",
   "metadata": {},
   "source": [
    "There are many more customizations to explore in Matplotlib, but this notebook gives an overview of the most commonly used ones."
   ]
  }
 ],
 "metadata": {
  "kernelspec": {
   "display_name": "python311-env",
   "language": "python",
   "name": "python3"
  },
  "language_info": {
   "codemirror_mode": {
    "name": "ipython",
    "version": 3
   },
   "file_extension": ".py",
   "mimetype": "text/x-python",
   "name": "python",
   "nbconvert_exporter": "python",
   "pygments_lexer": "ipython3",
   "version": "3.10.12"
  }
 },
 "nbformat": 4,
 "nbformat_minor": 2
}
