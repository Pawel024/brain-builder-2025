{
 "cells": [
  {
   "cell_type": "markdown",
   "metadata": {},
   "source": [
    "# 5. Pandas\n",
    "Pandas is a powerful open-source data manipulation and analysis library for Python. It is built on top of the NumPy library and provides data structures for efficient manipulation and analysis of structured data. Pandas is widely used in data science, machine learning, and data analysis tasks due to its flexibility and ease of use. Pandas is better suited for tasks involving structured and labeled data, especially when dealing with heterogeneous data types and complex operations on tabular data (think of a spreadsheet for example). This is very useful for large labeled datasets often used in Artificial Intelligence.\n",
    "\n",
    "## 5.1 Series & Dataframes\n",
    "Pandas introduces two key data structures in Pandas are the **Series** and **DataFrame**. We will discuss how they work and why they are useful.\n",
    "\n",
    "Similarly to NumPy and Matplotlib, the convention to import Pandas is as follows:"
   ]
  },
  {
   "cell_type": "code",
   "execution_count": null,
   "metadata": {},
   "outputs": [],
   "source": [
    "import pandas as pd"
   ]
  },
  {
   "cell_type": "markdown",
   "metadata": {},
   "source": [
    "### 5.1.1 Series\n",
    "`Series` is a fundamental data structure in Pandas, representing a one-dimensional labeled array capable of holding any data type. It's akin to a column in a spreadsheet or a single column in a database table. Each element in a Series has a label called an index. In the following example you can see why it differs from a NumPy `Array`."
   ]
  },
  {
   "cell_type": "code",
   "execution_count": 2,
   "metadata": {},
   "outputs": [
    {
     "name": "stdout",
     "output_type": "stream",
     "text": [
      "[ 1.  3.  5. nan  6.  8.]\n",
      "0    1.0\n",
      "1    3.0\n",
      "2    5.0\n",
      "3    NaN\n",
      "4    6.0\n",
      "5    8.0\n",
      "dtype: float64\n"
     ]
    }
   ],
   "source": [
    "import pandas as pd\n",
    "import numpy as np\n",
    "\n",
    "# Creating a Series from a list\n",
    "array = np.array([1, 3, 5, np.nan, 6, 8])\n",
    "series = pd.Series([1, 3, 5, np.nan, 6, 8])\n",
    "\n",
    "# Displaying the Series\n",
    "print(array)\n",
    "print(series)"
   ]
  },
  {
   "cell_type": "markdown",
   "metadata": {},
   "source": [
    "As you can see, all values are labeled with an index. Accessing points in a series can be done using:"
   ]
  },
  {
   "cell_type": "code",
   "execution_count": null,
   "metadata": {},
   "outputs": [],
   "source": [
    "# Accessing elements by index\n",
    "print(series[2])  # Output: 5.0\n",
    "\n",
    "# Slicing the Series\n",
    "print(series[1:4])"
   ]
  },
  {
   "cell_type": "markdown",
   "metadata": {},
   "source": [
    "`Series` supports both integer-based and label-based indexing. You can access elements by their index or use slicing to select a range of elements. A series is also very similar to a standard Python Dictionary. The following code shows you how to convert between them:"
   ]
  },
  {
   "cell_type": "code",
   "execution_count": null,
   "metadata": {},
   "outputs": [],
   "source": [
    "import time\n",
    "# Creating a dictionary\n",
    "data_dict = {'airplanes': 10, 'rockets': 20, 'satellites': 30}\n",
    "\n",
    "# Creating a Series from the dictionary\n",
    "s = pd.Series(data_dict)\n",
    "\n",
    "# Displaying the Series\n",
    "print(s)"
   ]
  },
  {
   "cell_type": "markdown",
   "metadata": {},
   "source": [
    "### 5.1.2 DataFrames\n",
    "DataFrame is a two-dimensional labeled data structure with columns that can be of different data types. It resembles a spreadsheet or SQL table, consisting of rows and columns. A Pandas DataFrame can be thought of as a dictionary of Series. Each column in a DataFrame is essentially a Series, and the keys of the dictionary become the column names. The following example shows how a DateFrame is created from a NumPy matrix."
   ]
  },
  {
   "cell_type": "code",
   "execution_count": null,
   "metadata": {},
   "outputs": [],
   "source": [
    "data = np.array([[1, 2, 3],\n",
    "                 [4, 5, 6],\n",
    "                 [7, 8, 9]])\n",
    "df = pd.DataFrame(data, columns=['Column1', 'Column2', 'Column3'])\n",
    "\n",
    "# Displaying the DataFrame\n",
    "print(df)"
   ]
  },
  {
   "cell_type": "markdown",
   "metadata": {},
   "source": [
    "Indexing and Selecting can be performed from a DataFrame as follows:"
   ]
  },
  {
   "cell_type": "code",
   "execution_count": null,
   "metadata": {},
   "outputs": [],
   "source": [
    "# Accessing a specific column can be done by passing the column name as a string in [].\n",
    "print(df['Column2'])\n",
    "\n",
    "# Accessing a specific element can be done by using the df.at method.\n",
    "# This example takes the index 1 (so 2nd element) of the specified column.\n",
    "print(df.at[1, 'Column3'])"
   ]
  },
  {
   "cell_type": "markdown",
   "metadata": {},
   "source": [
    "A new column can be quite easily added by the following code:"
   ]
  },
  {
   "cell_type": "code",
   "execution_count": null,
   "metadata": {},
   "outputs": [],
   "source": [
    "# Adding a new column\n",
    "df['Column4'] = pd.Series([4, 7, 10])\n",
    "\n",
    "# Displaying the updated DataFrame\n",
    "print(df)"
   ]
  },
  {
   "cell_type": "markdown",
   "metadata": {},
   "source": [
    "## 5.2 File Handling with Pandas\n",
    "Pandas provides versatile tools for reading data from various file formats. This capability is crucial for importing external data into your Python environment.\n",
    "\n",
    "### 5.2.1 Reading Data\n",
    "\n",
    "Reading from a CSV is really easy in Pandas as the DataFrame is very similary structured. Pandas is also very easy to use, like in this example where an airfoil is plotted."
   ]
  },
  {
   "cell_type": "code",
   "execution_count": null,
   "metadata": {},
   "outputs": [],
   "source": [
    "import pandas as pd\n",
    "import matplotlib.pyplot as plt\n",
    "\n",
    "# Reading a CSV file into a DataFrame\n",
    "df_csv = pd.read_csv('assets/eppler-airfoil.csv', skiprows=2) # skiprows=2 skips the first two rows\n",
    "\n",
    "# Displaying the DataFrame\n",
    "print(df_csv)\n",
    "\n",
    "# Plotting the airfoil\n",
    "plt, ax = plt.subplots(1)\n",
    "ax.plot(df_csv['x'][:31], df_csv['y'][:31], label='Top Surface')\n",
    "ax.plot(-df_csv['x'][32:], -df_csv['y'][32:], label='Bottom Surface')\n",
    "ax.set_aspect('equal', adjustable='box')\n",
    "ax.set_title('EPPLER 67 AIRFOIL')\n",
    "plt.show()"
   ]
  },
  {
   "cell_type": "markdown",
   "metadata": {},
   "source": [
    "Note how pandas automatically assigned x and y to be the column names after reading the CSV. Pandas can read an Excel file in a very similar way using the `pd.read_excel()` function.\n",
    "### 5.2.2 Writing Data\n",
    "Pandas also allows you to export data from DataFrames to various file formats. The interface is really simple to use: "
   ]
  },
  {
   "cell_type": "code",
   "execution_count": null,
   "metadata": {},
   "outputs": [],
   "source": [
    "# Writing a DataFrame to a CSV file\n",
    "df.to_csv('assets/output.csv', index=False)\n",
    "\n",
    "# Writing a DataFrame to an Excel file\n",
    "df.to_excel('assets/output.xlsx', sheet_name='Sheet1', index=False)"
   ]
  },
  {
   "cell_type": "markdown",
   "metadata": {},
   "source": [
    "## 5.3 Data Manipulation\n",
    "Pandas provides powerful mechanisms for manipulating and preparing data in DataFrames.\n",
    "\n",
    "For example, one can extract columns from a DataFrame in the following way:"
   ]
  },
  {
   "cell_type": "code",
   "execution_count": null,
   "metadata": {},
   "outputs": [],
   "source": [
    "# Selecting a single column\n",
    "single_column = df['Column1']\n",
    "\n",
    "# Selecting multiple columns\n",
    "multiple_columns = df[['Column1', 'Column2']]\n",
    "\n",
    "multiple_columns"
   ]
  },
  {
   "cell_type": "markdown",
   "metadata": {},
   "source": [
    "Selecting individual rows can be done using the `loc()` (by index) and `iloc()` (by position) functions:"
   ]
  },
  {
   "cell_type": "code",
   "execution_count": null,
   "metadata": {},
   "outputs": [],
   "source": [
    "# Selecting rows by index\n",
    "row_by_index = df.loc[1]\n",
    "\n",
    "# Selecting rows by position\n",
    "row_by_position = df.iloc[1]\n",
    "\n",
    "row_by_index"
   ]
  },
  {
   "cell_type": "markdown",
   "metadata": {},
   "source": [
    "It is also possible to do conditional selection, similar to how it is handled in NumPy."
   ]
  },
  {
   "cell_type": "code",
   "execution_count": null,
   "metadata": {},
   "outputs": [],
   "source": [
    "# Selecting rows based on a condition\n",
    "condition_selection = df[df['Column1'] > 4]\n",
    "\n",
    "condition_selection"
   ]
  }
 ],
 "metadata": {
  "kernelspec": {
   "display_name": "python311-env",
   "language": "python",
   "name": "python3"
  },
  "language_info": {
   "codemirror_mode": {
    "name": "ipython",
    "version": 3
   },
   "file_extension": ".py",
   "mimetype": "text/x-python",
   "name": "python",
   "nbconvert_exporter": "python",
   "pygments_lexer": "ipython3",
   "version": "3.10.9"
  }
 },
 "nbformat": 4,
 "nbformat_minor": 2
}
